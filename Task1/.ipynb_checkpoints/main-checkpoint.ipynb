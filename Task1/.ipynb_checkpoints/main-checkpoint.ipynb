version https://git-lfs.github.com/spec/v1
oid sha256:c633f7ba728fa13454019c1655d39466db3005a3144964aa2a9b1fb8150dcd00
size 9845
