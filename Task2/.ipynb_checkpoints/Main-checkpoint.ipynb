version https://git-lfs.github.com/spec/v1
oid sha256:63ccf7ba896f756ff0e413629f2ac38e52746b38d1e025409f646a5e31b71dbb
size 21082
